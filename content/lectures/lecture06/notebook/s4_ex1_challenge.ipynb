{
  "cells": [
    {
      "cell_type": "markdown",
      "metadata": {
        "id": "view-in-github",
        "colab_type": "text"
      },
      "source": [
        "<a href=\"https://colab.research.google.com/github/lovecrushfamily/2021-CS109A/blob/master/content/lectures/lecture06/notebook/s4_ex1_challenge.ipynb\" target=\"_parent\"><img src=\"https://colab.research.google.com/assets/colab-badge.svg\" alt=\"Open In Colab\"/></a>"
      ]
    },
    {
      "cell_type": "markdown",
      "metadata": {
        "id": "kVUqlmJZ8gxf"
      },
      "source": [
        "## Title :\n",
        "Exercise: Simple Lasso and Ridge Regularization\n",
        "\n",
        "## Description :\n",
        "The aim of this exercise is to understand **Lasso and Ridge regularization.**\n",
        "\n",
        "For this we will plot the predictor vs coefficient as a horizontal bar chart. The graph will look similar to the one given below.\n",
        "\n",
        "<img src=\"https://github.com/Harvard-IACS/2021-CS109A/blob/master/content/lectures/lecture06/fig/fig2.png?raw=1\" style=\"width: 500px;\">\n",
        "\n",
        "## Data Description:\n",
        "\n",
        "## Instructions:\n",
        "\n",
        "- Read the dataset and assign the predictor and response variables.\n",
        "- Split the dataset into train and validation sets.\n",
        "- Fit a multi-linear regression model.\n",
        "- Compute the validation MSE of the model.\n",
        "- Compute the coefficient of the predictors and store to the plot later.\n",
        "- Implement Lasso regularization by specifying an alpha value. Repeat steps 4 and 5.\n",
        "- Implement Ridge regularization by specifying the same alpha value. Repeat steps 4 and 5.\n",
        "- Plot the coefficient of all the 3 models in one graph as shown above.\n",
        "\n",
        "## Hints:\n",
        "\n",
        "<a href=\"https://scikit-learn.org/stable/modules/generated/sklearn.preprocessing.normalize.html\" target=\"_blank\">sklearn.normalize()</a>\n",
        "Scales input vectors individually to the unit norm (vector length)\n",
        "\n",
        "<a href=\"https://scikit-learn.org/stable/modules/generated/sklearn.model_selection.train_test_split.html\" target=\"_blank\">sklearn.train_test_split()</a>\n",
        "Splits the data into random train and test subsets\n",
        "\n",
        "<a href=\"https://scikit-learn.org/stable/modules/generated/sklearn.linear_model.LinearRegression.html\" target=\"_blank\">sklearn.LinearRegression()</a>\n",
        "LinearRegression fits a linear model\n",
        "\n",
        "<a href=\"https://scikit-learn.org/stable/modules/generated/sklearn.linear_model.LinearRegression.html#sklearn.linear_model.LinearRegression.fit\" target=\"_blank\">sklearn.fit()</a>\n",
        "Fits the linear model to the training data\n",
        "\n",
        "<a href=\"https://scikit-learn.org/stable/modules/generated/sklearn.linear_model.LinearRegression.html#sklearn.linear_model.LinearRegression.predict\" target=\"_blank\">sklearn.predict()</a>\n",
        "Predict using the linear modReturns the coefficient of the predictors in the model.\n",
        "\n",
        "<a href=\"https://scikit-learn.org/stable/modules/generated/sklearn.metrics.mean_squared_error.html\" target=\"_blank\">mean_squared_error()</a>\n",
        "Mean squared error regression loss\n",
        "\n",
        "<a href=\"http://scikit-learn.org/stable/modules/generated/sklearn.linear_model.Lasso.html\" target=\"_blank\">sklearn.Lasso()</a>\n",
        "Linear Model trained with L1 prior as a regularizer\n",
        "\n",
        "<a href=\"https://scikit-learn.org/stable/modules/generated/sklearn.linear_model.Ridge.html\" target=\"_blank\">sklearn.Ridge()</a>\n",
        "Linear least squares with L2 regularization\n",
        "\n",
        "**Note:** This exercise is auto-graded and you can try multiple attempts."
      ]
    },
    {
      "cell_type": "code",
      "execution_count": 2,
      "metadata": {
        "collapsed": true,
        "id": "yTgCBC7F8gxu"
      },
      "outputs": [],
      "source": [
        "# Import necessary libraries\n",
        "%matplotlib inline\n",
        "import pandas as pd\n",
        "import numpy as np\n",
        "import matplotlib.pyplot as plt\n",
        "from sklearn import preprocessing\n",
        "from sklearn.linear_model import Lasso\n",
        "from sklearn.linear_model import Ridge\n",
        "from sklearn.metrics import mean_squared_error\n",
        "from sklearn.linear_model import LinearRegression\n",
        "from sklearn.model_selection import train_test_split\n",
        "from sklearn.preprocessing import PolynomialFeatures\n"
      ]
    },
    {
      "cell_type": "markdown",
      "metadata": {
        "id": "b32eZ75l8gx3"
      },
      "source": [
        "### Reading the dataset"
      ]
    },
    {
      "cell_type": "code",
      "execution_count": 4,
      "metadata": {
        "collapsed": true,
        "id": "cEak21KC8gx9",
        "outputId": "a495c5bb-1522-4937-f10a-af95ac4a805a",
        "colab": {
          "base_uri": "https://localhost:8080/",
          "height": 424
        }
      },
      "outputs": [
        {
          "output_type": "execute_result",
          "data": {
            "text/plain": [
              "        crim  indus    nox     rm   age     dis  rad  tax  ptratio   black  \\\n",
              "0    0.00632   2.31  0.538  6.575  65.2  4.0900    1  296     15.3  396.90   \n",
              "1    0.02731   7.07  0.469  6.421  78.9  4.9671    2  242     17.8  396.90   \n",
              "2    0.02729   7.07  0.469  7.185  61.1  4.9671    2  242     17.8  392.83   \n",
              "3    0.03237   2.18  0.458  6.998  45.8  6.0622    3  222     18.7  394.63   \n",
              "4    0.06905   2.18  0.458  7.147  54.2  6.0622    3  222     18.7  396.90   \n",
              "..       ...    ...    ...    ...   ...     ...  ...  ...      ...     ...   \n",
              "501  0.06263  11.93  0.573  6.593  69.1  2.4786    1  273     21.0  391.99   \n",
              "502  0.04527  11.93  0.573  6.120  76.7  2.2875    1  273     21.0  396.90   \n",
              "503  0.06076  11.93  0.573  6.976  91.0  2.1675    1  273     21.0  396.90   \n",
              "504  0.10959  11.93  0.573  6.794  89.3  2.3889    1  273     21.0  393.45   \n",
              "505  0.04741  11.93  0.573  6.030  80.8  2.5050    1  273     21.0  396.90   \n",
              "\n",
              "     lstat  medv  \n",
              "0     4.98  24.0  \n",
              "1     9.14  21.6  \n",
              "2     4.03  34.7  \n",
              "3     2.94  33.4  \n",
              "4     5.33  36.2  \n",
              "..     ...   ...  \n",
              "501   9.67  22.4  \n",
              "502   9.08  20.6  \n",
              "503   5.64  23.9  \n",
              "504   6.48  22.0  \n",
              "505   7.88  11.9  \n",
              "\n",
              "[506 rows x 12 columns]"
            ],
            "text/html": [
              "\n",
              "  <div id=\"df-5cdfb1f1-882c-4d94-8550-c2ed275e1b73\" class=\"colab-df-container\">\n",
              "    <div>\n",
              "<style scoped>\n",
              "    .dataframe tbody tr th:only-of-type {\n",
              "        vertical-align: middle;\n",
              "    }\n",
              "\n",
              "    .dataframe tbody tr th {\n",
              "        vertical-align: top;\n",
              "    }\n",
              "\n",
              "    .dataframe thead th {\n",
              "        text-align: right;\n",
              "    }\n",
              "</style>\n",
              "<table border=\"1\" class=\"dataframe\">\n",
              "  <thead>\n",
              "    <tr style=\"text-align: right;\">\n",
              "      <th></th>\n",
              "      <th>crim</th>\n",
              "      <th>indus</th>\n",
              "      <th>nox</th>\n",
              "      <th>rm</th>\n",
              "      <th>age</th>\n",
              "      <th>dis</th>\n",
              "      <th>rad</th>\n",
              "      <th>tax</th>\n",
              "      <th>ptratio</th>\n",
              "      <th>black</th>\n",
              "      <th>lstat</th>\n",
              "      <th>medv</th>\n",
              "    </tr>\n",
              "  </thead>\n",
              "  <tbody>\n",
              "    <tr>\n",
              "      <th>0</th>\n",
              "      <td>0.00632</td>\n",
              "      <td>2.31</td>\n",
              "      <td>0.538</td>\n",
              "      <td>6.575</td>\n",
              "      <td>65.2</td>\n",
              "      <td>4.0900</td>\n",
              "      <td>1</td>\n",
              "      <td>296</td>\n",
              "      <td>15.3</td>\n",
              "      <td>396.90</td>\n",
              "      <td>4.98</td>\n",
              "      <td>24.0</td>\n",
              "    </tr>\n",
              "    <tr>\n",
              "      <th>1</th>\n",
              "      <td>0.02731</td>\n",
              "      <td>7.07</td>\n",
              "      <td>0.469</td>\n",
              "      <td>6.421</td>\n",
              "      <td>78.9</td>\n",
              "      <td>4.9671</td>\n",
              "      <td>2</td>\n",
              "      <td>242</td>\n",
              "      <td>17.8</td>\n",
              "      <td>396.90</td>\n",
              "      <td>9.14</td>\n",
              "      <td>21.6</td>\n",
              "    </tr>\n",
              "    <tr>\n",
              "      <th>2</th>\n",
              "      <td>0.02729</td>\n",
              "      <td>7.07</td>\n",
              "      <td>0.469</td>\n",
              "      <td>7.185</td>\n",
              "      <td>61.1</td>\n",
              "      <td>4.9671</td>\n",
              "      <td>2</td>\n",
              "      <td>242</td>\n",
              "      <td>17.8</td>\n",
              "      <td>392.83</td>\n",
              "      <td>4.03</td>\n",
              "      <td>34.7</td>\n",
              "    </tr>\n",
              "    <tr>\n",
              "      <th>3</th>\n",
              "      <td>0.03237</td>\n",
              "      <td>2.18</td>\n",
              "      <td>0.458</td>\n",
              "      <td>6.998</td>\n",
              "      <td>45.8</td>\n",
              "      <td>6.0622</td>\n",
              "      <td>3</td>\n",
              "      <td>222</td>\n",
              "      <td>18.7</td>\n",
              "      <td>394.63</td>\n",
              "      <td>2.94</td>\n",
              "      <td>33.4</td>\n",
              "    </tr>\n",
              "    <tr>\n",
              "      <th>4</th>\n",
              "      <td>0.06905</td>\n",
              "      <td>2.18</td>\n",
              "      <td>0.458</td>\n",
              "      <td>7.147</td>\n",
              "      <td>54.2</td>\n",
              "      <td>6.0622</td>\n",
              "      <td>3</td>\n",
              "      <td>222</td>\n",
              "      <td>18.7</td>\n",
              "      <td>396.90</td>\n",
              "      <td>5.33</td>\n",
              "      <td>36.2</td>\n",
              "    </tr>\n",
              "    <tr>\n",
              "      <th>...</th>\n",
              "      <td>...</td>\n",
              "      <td>...</td>\n",
              "      <td>...</td>\n",
              "      <td>...</td>\n",
              "      <td>...</td>\n",
              "      <td>...</td>\n",
              "      <td>...</td>\n",
              "      <td>...</td>\n",
              "      <td>...</td>\n",
              "      <td>...</td>\n",
              "      <td>...</td>\n",
              "      <td>...</td>\n",
              "    </tr>\n",
              "    <tr>\n",
              "      <th>501</th>\n",
              "      <td>0.06263</td>\n",
              "      <td>11.93</td>\n",
              "      <td>0.573</td>\n",
              "      <td>6.593</td>\n",
              "      <td>69.1</td>\n",
              "      <td>2.4786</td>\n",
              "      <td>1</td>\n",
              "      <td>273</td>\n",
              "      <td>21.0</td>\n",
              "      <td>391.99</td>\n",
              "      <td>9.67</td>\n",
              "      <td>22.4</td>\n",
              "    </tr>\n",
              "    <tr>\n",
              "      <th>502</th>\n",
              "      <td>0.04527</td>\n",
              "      <td>11.93</td>\n",
              "      <td>0.573</td>\n",
              "      <td>6.120</td>\n",
              "      <td>76.7</td>\n",
              "      <td>2.2875</td>\n",
              "      <td>1</td>\n",
              "      <td>273</td>\n",
              "      <td>21.0</td>\n",
              "      <td>396.90</td>\n",
              "      <td>9.08</td>\n",
              "      <td>20.6</td>\n",
              "    </tr>\n",
              "    <tr>\n",
              "      <th>503</th>\n",
              "      <td>0.06076</td>\n",
              "      <td>11.93</td>\n",
              "      <td>0.573</td>\n",
              "      <td>6.976</td>\n",
              "      <td>91.0</td>\n",
              "      <td>2.1675</td>\n",
              "      <td>1</td>\n",
              "      <td>273</td>\n",
              "      <td>21.0</td>\n",
              "      <td>396.90</td>\n",
              "      <td>5.64</td>\n",
              "      <td>23.9</td>\n",
              "    </tr>\n",
              "    <tr>\n",
              "      <th>504</th>\n",
              "      <td>0.10959</td>\n",
              "      <td>11.93</td>\n",
              "      <td>0.573</td>\n",
              "      <td>6.794</td>\n",
              "      <td>89.3</td>\n",
              "      <td>2.3889</td>\n",
              "      <td>1</td>\n",
              "      <td>273</td>\n",
              "      <td>21.0</td>\n",
              "      <td>393.45</td>\n",
              "      <td>6.48</td>\n",
              "      <td>22.0</td>\n",
              "    </tr>\n",
              "    <tr>\n",
              "      <th>505</th>\n",
              "      <td>0.04741</td>\n",
              "      <td>11.93</td>\n",
              "      <td>0.573</td>\n",
              "      <td>6.030</td>\n",
              "      <td>80.8</td>\n",
              "      <td>2.5050</td>\n",
              "      <td>1</td>\n",
              "      <td>273</td>\n",
              "      <td>21.0</td>\n",
              "      <td>396.90</td>\n",
              "      <td>7.88</td>\n",
              "      <td>11.9</td>\n",
              "    </tr>\n",
              "  </tbody>\n",
              "</table>\n",
              "<p>506 rows × 12 columns</p>\n",
              "</div>\n",
              "    <div class=\"colab-df-buttons\">\n",
              "\n",
              "  <div class=\"colab-df-container\">\n",
              "    <button class=\"colab-df-convert\" onclick=\"convertToInteractive('df-5cdfb1f1-882c-4d94-8550-c2ed275e1b73')\"\n",
              "            title=\"Convert this dataframe to an interactive table.\"\n",
              "            style=\"display:none;\">\n",
              "\n",
              "  <svg xmlns=\"http://www.w3.org/2000/svg\" height=\"24px\" viewBox=\"0 -960 960 960\">\n",
              "    <path d=\"M120-120v-720h720v720H120Zm60-500h600v-160H180v160Zm220 220h160v-160H400v160Zm0 220h160v-160H400v160ZM180-400h160v-160H180v160Zm440 0h160v-160H620v160ZM180-180h160v-160H180v160Zm440 0h160v-160H620v160Z\"/>\n",
              "  </svg>\n",
              "    </button>\n",
              "\n",
              "  <style>\n",
              "    .colab-df-container {\n",
              "      display:flex;\n",
              "      gap: 12px;\n",
              "    }\n",
              "\n",
              "    .colab-df-convert {\n",
              "      background-color: #E8F0FE;\n",
              "      border: none;\n",
              "      border-radius: 50%;\n",
              "      cursor: pointer;\n",
              "      display: none;\n",
              "      fill: #1967D2;\n",
              "      height: 32px;\n",
              "      padding: 0 0 0 0;\n",
              "      width: 32px;\n",
              "    }\n",
              "\n",
              "    .colab-df-convert:hover {\n",
              "      background-color: #E2EBFA;\n",
              "      box-shadow: 0px 1px 2px rgba(60, 64, 67, 0.3), 0px 1px 3px 1px rgba(60, 64, 67, 0.15);\n",
              "      fill: #174EA6;\n",
              "    }\n",
              "\n",
              "    .colab-df-buttons div {\n",
              "      margin-bottom: 4px;\n",
              "    }\n",
              "\n",
              "    [theme=dark] .colab-df-convert {\n",
              "      background-color: #3B4455;\n",
              "      fill: #D2E3FC;\n",
              "    }\n",
              "\n",
              "    [theme=dark] .colab-df-convert:hover {\n",
              "      background-color: #434B5C;\n",
              "      box-shadow: 0px 1px 3px 1px rgba(0, 0, 0, 0.15);\n",
              "      filter: drop-shadow(0px 1px 2px rgba(0, 0, 0, 0.3));\n",
              "      fill: #FFFFFF;\n",
              "    }\n",
              "  </style>\n",
              "\n",
              "    <script>\n",
              "      const buttonEl =\n",
              "        document.querySelector('#df-5cdfb1f1-882c-4d94-8550-c2ed275e1b73 button.colab-df-convert');\n",
              "      buttonEl.style.display =\n",
              "        google.colab.kernel.accessAllowed ? 'block' : 'none';\n",
              "\n",
              "      async function convertToInteractive(key) {\n",
              "        const element = document.querySelector('#df-5cdfb1f1-882c-4d94-8550-c2ed275e1b73');\n",
              "        const dataTable =\n",
              "          await google.colab.kernel.invokeFunction('convertToInteractive',\n",
              "                                                    [key], {});\n",
              "        if (!dataTable) return;\n",
              "\n",
              "        const docLinkHtml = 'Like what you see? Visit the ' +\n",
              "          '<a target=\"_blank\" href=https://colab.research.google.com/notebooks/data_table.ipynb>data table notebook</a>'\n",
              "          + ' to learn more about interactive tables.';\n",
              "        element.innerHTML = '';\n",
              "        dataTable['output_type'] = 'display_data';\n",
              "        await google.colab.output.renderOutput(dataTable, element);\n",
              "        const docLink = document.createElement('div');\n",
              "        docLink.innerHTML = docLinkHtml;\n",
              "        element.appendChild(docLink);\n",
              "      }\n",
              "    </script>\n",
              "  </div>\n",
              "\n",
              "\n",
              "    <div id=\"df-91d103ce-66bc-472d-949c-4d0551c7901c\">\n",
              "      <button class=\"colab-df-quickchart\" onclick=\"quickchart('df-91d103ce-66bc-472d-949c-4d0551c7901c')\"\n",
              "                title=\"Suggest charts\"\n",
              "                style=\"display:none;\">\n",
              "\n",
              "<svg xmlns=\"http://www.w3.org/2000/svg\" height=\"24px\"viewBox=\"0 0 24 24\"\n",
              "     width=\"24px\">\n",
              "    <g>\n",
              "        <path d=\"M19 3H5c-1.1 0-2 .9-2 2v14c0 1.1.9 2 2 2h14c1.1 0 2-.9 2-2V5c0-1.1-.9-2-2-2zM9 17H7v-7h2v7zm4 0h-2V7h2v10zm4 0h-2v-4h2v4z\"/>\n",
              "    </g>\n",
              "</svg>\n",
              "      </button>\n",
              "\n",
              "<style>\n",
              "  .colab-df-quickchart {\n",
              "      --bg-color: #E8F0FE;\n",
              "      --fill-color: #1967D2;\n",
              "      --hover-bg-color: #E2EBFA;\n",
              "      --hover-fill-color: #174EA6;\n",
              "      --disabled-fill-color: #AAA;\n",
              "      --disabled-bg-color: #DDD;\n",
              "  }\n",
              "\n",
              "  [theme=dark] .colab-df-quickchart {\n",
              "      --bg-color: #3B4455;\n",
              "      --fill-color: #D2E3FC;\n",
              "      --hover-bg-color: #434B5C;\n",
              "      --hover-fill-color: #FFFFFF;\n",
              "      --disabled-bg-color: #3B4455;\n",
              "      --disabled-fill-color: #666;\n",
              "  }\n",
              "\n",
              "  .colab-df-quickchart {\n",
              "    background-color: var(--bg-color);\n",
              "    border: none;\n",
              "    border-radius: 50%;\n",
              "    cursor: pointer;\n",
              "    display: none;\n",
              "    fill: var(--fill-color);\n",
              "    height: 32px;\n",
              "    padding: 0;\n",
              "    width: 32px;\n",
              "  }\n",
              "\n",
              "  .colab-df-quickchart:hover {\n",
              "    background-color: var(--hover-bg-color);\n",
              "    box-shadow: 0 1px 2px rgba(60, 64, 67, 0.3), 0 1px 3px 1px rgba(60, 64, 67, 0.15);\n",
              "    fill: var(--button-hover-fill-color);\n",
              "  }\n",
              "\n",
              "  .colab-df-quickchart-complete:disabled,\n",
              "  .colab-df-quickchart-complete:disabled:hover {\n",
              "    background-color: var(--disabled-bg-color);\n",
              "    fill: var(--disabled-fill-color);\n",
              "    box-shadow: none;\n",
              "  }\n",
              "\n",
              "  .colab-df-spinner {\n",
              "    border: 2px solid var(--fill-color);\n",
              "    border-color: transparent;\n",
              "    border-bottom-color: var(--fill-color);\n",
              "    animation:\n",
              "      spin 1s steps(1) infinite;\n",
              "  }\n",
              "\n",
              "  @keyframes spin {\n",
              "    0% {\n",
              "      border-color: transparent;\n",
              "      border-bottom-color: var(--fill-color);\n",
              "      border-left-color: var(--fill-color);\n",
              "    }\n",
              "    20% {\n",
              "      border-color: transparent;\n",
              "      border-left-color: var(--fill-color);\n",
              "      border-top-color: var(--fill-color);\n",
              "    }\n",
              "    30% {\n",
              "      border-color: transparent;\n",
              "      border-left-color: var(--fill-color);\n",
              "      border-top-color: var(--fill-color);\n",
              "      border-right-color: var(--fill-color);\n",
              "    }\n",
              "    40% {\n",
              "      border-color: transparent;\n",
              "      border-right-color: var(--fill-color);\n",
              "      border-top-color: var(--fill-color);\n",
              "    }\n",
              "    60% {\n",
              "      border-color: transparent;\n",
              "      border-right-color: var(--fill-color);\n",
              "    }\n",
              "    80% {\n",
              "      border-color: transparent;\n",
              "      border-right-color: var(--fill-color);\n",
              "      border-bottom-color: var(--fill-color);\n",
              "    }\n",
              "    90% {\n",
              "      border-color: transparent;\n",
              "      border-bottom-color: var(--fill-color);\n",
              "    }\n",
              "  }\n",
              "</style>\n",
              "\n",
              "      <script>\n",
              "        async function quickchart(key) {\n",
              "          const quickchartButtonEl =\n",
              "            document.querySelector('#' + key + ' button');\n",
              "          quickchartButtonEl.disabled = true;  // To prevent multiple clicks.\n",
              "          quickchartButtonEl.classList.add('colab-df-spinner');\n",
              "          try {\n",
              "            const charts = await google.colab.kernel.invokeFunction(\n",
              "                'suggestCharts', [key], {});\n",
              "          } catch (error) {\n",
              "            console.error('Error during call to suggestCharts:', error);\n",
              "          }\n",
              "          quickchartButtonEl.classList.remove('colab-df-spinner');\n",
              "          quickchartButtonEl.classList.add('colab-df-quickchart-complete');\n",
              "        }\n",
              "        (() => {\n",
              "          let quickchartButtonEl =\n",
              "            document.querySelector('#df-91d103ce-66bc-472d-949c-4d0551c7901c button');\n",
              "          quickchartButtonEl.style.display =\n",
              "            google.colab.kernel.accessAllowed ? 'block' : 'none';\n",
              "        })();\n",
              "      </script>\n",
              "    </div>\n",
              "\n",
              "  <div id=\"id_f07797a2-80d1-4a24-962e-277717dd2304\">\n",
              "    <style>\n",
              "      .colab-df-generate {\n",
              "        background-color: #E8F0FE;\n",
              "        border: none;\n",
              "        border-radius: 50%;\n",
              "        cursor: pointer;\n",
              "        display: none;\n",
              "        fill: #1967D2;\n",
              "        height: 32px;\n",
              "        padding: 0 0 0 0;\n",
              "        width: 32px;\n",
              "      }\n",
              "\n",
              "      .colab-df-generate:hover {\n",
              "        background-color: #E2EBFA;\n",
              "        box-shadow: 0px 1px 2px rgba(60, 64, 67, 0.3), 0px 1px 3px 1px rgba(60, 64, 67, 0.15);\n",
              "        fill: #174EA6;\n",
              "      }\n",
              "\n",
              "      [theme=dark] .colab-df-generate {\n",
              "        background-color: #3B4455;\n",
              "        fill: #D2E3FC;\n",
              "      }\n",
              "\n",
              "      [theme=dark] .colab-df-generate:hover {\n",
              "        background-color: #434B5C;\n",
              "        box-shadow: 0px 1px 3px 1px rgba(0, 0, 0, 0.15);\n",
              "        filter: drop-shadow(0px 1px 2px rgba(0, 0, 0, 0.3));\n",
              "        fill: #FFFFFF;\n",
              "      }\n",
              "    </style>\n",
              "    <button class=\"colab-df-generate\" onclick=\"generateWithVariable('df')\"\n",
              "            title=\"Generate code using this dataframe.\"\n",
              "            style=\"display:none;\">\n",
              "\n",
              "  <svg xmlns=\"http://www.w3.org/2000/svg\" height=\"24px\"viewBox=\"0 0 24 24\"\n",
              "       width=\"24px\">\n",
              "    <path d=\"M7,19H8.4L18.45,9,17,7.55,7,17.6ZM5,21V16.75L18.45,3.32a2,2,0,0,1,2.83,0l1.4,1.43a1.91,1.91,0,0,1,.58,1.4,1.91,1.91,0,0,1-.58,1.4L9.25,21ZM18.45,9,17,7.55Zm-12,3A5.31,5.31,0,0,0,4.9,8.1,5.31,5.31,0,0,0,1,6.5,5.31,5.31,0,0,0,4.9,4.9,5.31,5.31,0,0,0,6.5,1,5.31,5.31,0,0,0,8.1,4.9,5.31,5.31,0,0,0,12,6.5,5.46,5.46,0,0,0,6.5,12Z\"/>\n",
              "  </svg>\n",
              "    </button>\n",
              "    <script>\n",
              "      (() => {\n",
              "      const buttonEl =\n",
              "        document.querySelector('#id_f07797a2-80d1-4a24-962e-277717dd2304 button.colab-df-generate');\n",
              "      buttonEl.style.display =\n",
              "        google.colab.kernel.accessAllowed ? 'block' : 'none';\n",
              "\n",
              "      buttonEl.onclick = () => {\n",
              "        google.colab.notebook.generateWithVariable('df');\n",
              "      }\n",
              "      })();\n",
              "    </script>\n",
              "  </div>\n",
              "\n",
              "    </div>\n",
              "  </div>\n"
            ],
            "application/vnd.google.colaboratory.intrinsic+json": {
              "type": "dataframe",
              "variable_name": "df",
              "summary": "{\n  \"name\": \"df\",\n  \"rows\": 506,\n  \"fields\": [\n    {\n      \"column\": \"crim\",\n      \"properties\": {\n        \"dtype\": \"number\",\n        \"std\": 8.601545105332487,\n        \"min\": 0.00632,\n        \"max\": 88.9762,\n        \"num_unique_values\": 504,\n        \"samples\": [\n          0.09178,\n          0.05644,\n          0.10574\n        ],\n        \"semantic_type\": \"\",\n        \"description\": \"\"\n      }\n    },\n    {\n      \"column\": \"indus\",\n      \"properties\": {\n        \"dtype\": \"number\",\n        \"std\": 6.8603529408975845,\n        \"min\": 0.46,\n        \"max\": 27.74,\n        \"num_unique_values\": 76,\n        \"samples\": [\n          8.14,\n          1.47,\n          1.22\n        ],\n        \"semantic_type\": \"\",\n        \"description\": \"\"\n      }\n    },\n    {\n      \"column\": \"nox\",\n      \"properties\": {\n        \"dtype\": \"number\",\n        \"std\": 0.11587767566755611,\n        \"min\": 0.385,\n        \"max\": 0.871,\n        \"num_unique_values\": 81,\n        \"samples\": [\n          0.401,\n          0.538,\n          0.52\n        ],\n        \"semantic_type\": \"\",\n        \"description\": \"\"\n      }\n    },\n    {\n      \"column\": \"rm\",\n      \"properties\": {\n        \"dtype\": \"number\",\n        \"std\": 0.7026171434153237,\n        \"min\": 3.561,\n        \"max\": 8.78,\n        \"num_unique_values\": 446,\n        \"samples\": [\n          6.849,\n          4.88,\n          5.693\n        ],\n        \"semantic_type\": \"\",\n        \"description\": \"\"\n      }\n    },\n    {\n      \"column\": \"age\",\n      \"properties\": {\n        \"dtype\": \"number\",\n        \"std\": 28.148861406903638,\n        \"min\": 2.9,\n        \"max\": 100.0,\n        \"num_unique_values\": 356,\n        \"samples\": [\n          51.8,\n          33.8,\n          70.3\n        ],\n        \"semantic_type\": \"\",\n        \"description\": \"\"\n      }\n    },\n    {\n      \"column\": \"dis\",\n      \"properties\": {\n        \"dtype\": \"number\",\n        \"std\": 2.1057101266276104,\n        \"min\": 1.1296,\n        \"max\": 12.1265,\n        \"num_unique_values\": 412,\n        \"samples\": [\n          2.2955,\n          4.2515,\n          3.2628\n        ],\n        \"semantic_type\": \"\",\n        \"description\": \"\"\n      }\n    },\n    {\n      \"column\": \"rad\",\n      \"properties\": {\n        \"dtype\": \"number\",\n        \"std\": 8,\n        \"min\": 1,\n        \"max\": 24,\n        \"num_unique_values\": 9,\n        \"samples\": [\n          7,\n          2,\n          8\n        ],\n        \"semantic_type\": \"\",\n        \"description\": \"\"\n      }\n    },\n    {\n      \"column\": \"tax\",\n      \"properties\": {\n        \"dtype\": \"number\",\n        \"std\": 168,\n        \"min\": 187,\n        \"max\": 711,\n        \"num_unique_values\": 66,\n        \"samples\": [\n          370,\n          666,\n          296\n        ],\n        \"semantic_type\": \"\",\n        \"description\": \"\"\n      }\n    },\n    {\n      \"column\": \"ptratio\",\n      \"properties\": {\n        \"dtype\": \"number\",\n        \"std\": 2.164945523714446,\n        \"min\": 12.6,\n        \"max\": 22.0,\n        \"num_unique_values\": 46,\n        \"samples\": [\n          19.6,\n          15.6,\n          14.4\n        ],\n        \"semantic_type\": \"\",\n        \"description\": \"\"\n      }\n    },\n    {\n      \"column\": \"black\",\n      \"properties\": {\n        \"dtype\": \"number\",\n        \"std\": 91.29486438415779,\n        \"min\": 0.32,\n        \"max\": 396.9,\n        \"num_unique_values\": 357,\n        \"samples\": [\n          396.24,\n          395.11,\n          16.45\n        ],\n        \"semantic_type\": \"\",\n        \"description\": \"\"\n      }\n    },\n    {\n      \"column\": \"lstat\",\n      \"properties\": {\n        \"dtype\": \"number\",\n        \"std\": 7.141061511348571,\n        \"min\": 1.73,\n        \"max\": 37.97,\n        \"num_unique_values\": 455,\n        \"samples\": [\n          6.15,\n          4.32,\n          18.05\n        ],\n        \"semantic_type\": \"\",\n        \"description\": \"\"\n      }\n    },\n    {\n      \"column\": \"medv\",\n      \"properties\": {\n        \"dtype\": \"number\",\n        \"std\": 9.19710408737982,\n        \"min\": 5.0,\n        \"max\": 50.0,\n        \"num_unique_values\": 229,\n        \"samples\": [\n          14.1,\n          22.5,\n          18.9\n        ],\n        \"semantic_type\": \"\",\n        \"description\": \"\"\n      }\n    }\n  ]\n}"
            }
          },
          "metadata": {},
          "execution_count": 4
        }
      ],
      "source": [
        "# Read the file \"Boston_housing.csv\" as a Pandas dataframe\n",
        "df = pd.read_csv(\"https://raw.githubusercontent.com/Harvard-IACS/2021-CS109A/refs/heads/master/content/lectures/lecture06/data/Boston_housing.csv\")\n",
        "df\n"
      ]
    },
    {
      "cell_type": "markdown",
      "metadata": {
        "id": "-yZjjlVn8gyD"
      },
      "source": [
        "## Predictors & Response variables\n",
        "\n",
        "Select the following columns as predictors\n",
        "- crim\n",
        "- indus\n",
        "- nox\n",
        "- rm\n",
        "- age\n",
        "- dis\n",
        "- rad\n",
        "- tax\n",
        "- ptratio\n",
        "- black\n",
        "- lstat\n",
        "\n",
        "#### Select the 'medv' column as response variable"
      ]
    },
    {
      "cell_type": "code",
      "execution_count": 5,
      "metadata": {
        "id": "5GVn7awM8gyK"
      },
      "outputs": [],
      "source": [
        "# Select a subdataframe of predictors mentioned above\n",
        "X = df[[\"crim\",\"indus\",\"nox\",\"rm\",\"age\",\"dis\",\"rad\",\"tax\",\"ptratio\",\"black\",\"lstat\"]]\n",
        "\n",
        "# Normalize the values of the dataframe\n",
        "X_norm = preprocessing.normalize(X)\n",
        "\n",
        "# Select medv as the response variable\n",
        "y = df[\"medv\"]\n"
      ]
    },
    {
      "cell_type": "markdown",
      "metadata": {
        "id": "IJAVdoq-8gyQ"
      },
      "source": [
        "### Split the dataset into train and validation sets\n"
      ]
    },
    {
      "cell_type": "code",
      "execution_count": 7,
      "metadata": {
        "id": "r-kObZsg8gyS"
      },
      "outputs": [],
      "source": [
        "### edTest(test_random) ###\n",
        "# Split the data into train and validation sets with 70% train data and\n",
        "# random_state as 31\n",
        "X_train, X_val, y_train, y_val = train_test_split(X, y)\n"
      ]
    },
    {
      "cell_type": "markdown",
      "metadata": {
        "id": "ID2D9kAw8gyW"
      },
      "source": [
        "### Multi-linear Regression Analysis"
      ]
    },
    {
      "cell_type": "code",
      "execution_count": 8,
      "metadata": {
        "collapsed": true,
        "id": "ouoYE2b08gyc"
      },
      "outputs": [],
      "source": [
        "# Initialize a Linear Regression model\n",
        "lreg = LinearRegression()\n",
        "\n",
        "# Fit the linear model on the train data\n",
        "lreg.fit(X_train, y_train)\n",
        "\n",
        "# Predict on the validation data\n",
        "y_val_pred = lreg.predict(X_val)\n"
      ]
    },
    {
      "cell_type": "code",
      "execution_count": 10,
      "metadata": {
        "collapsed": true,
        "id": "wr-oE7op8gyi",
        "outputId": "4c70a070-2a66-4e13-f1b0-09d5d0ae9a32",
        "colab": {
          "base_uri": "https://localhost:8080/"
        }
      },
      "outputs": [
        {
          "output_type": "stream",
          "name": "stdout",
          "text": [
            "Multi-linear regression validation MSE is 24.66393027222828\n"
          ]
        }
      ],
      "source": [
        "# Use the mean_squared_error function to compute the validation mse\n",
        "mse = mean_squared_error(y_val_pred, y_val)\n",
        "\n",
        "# Print the MSE value\n",
        "print (\"Multi-linear regression validation MSE is\", mse)\n",
        "\n"
      ]
    },
    {
      "cell_type": "markdown",
      "metadata": {
        "id": "CeS2dsc28gyn"
      },
      "source": [
        "### Obtaining the coefficients of the predictors"
      ]
    },
    {
      "cell_type": "code",
      "execution_count": 16,
      "metadata": {
        "id": "JCaTs26f8gyp",
        "outputId": "4719909a-4b3f-48b9-9f37-0b3c488f5e9c",
        "colab": {
          "base_uri": "https://localhost:8080/"
        }
      },
      "outputs": [
        {
          "output_type": "execute_result",
          "data": {
            "text/plain": [
              "(['crim',\n",
              "  'indus',\n",
              "  'nox',\n",
              "  'rm',\n",
              "  'age',\n",
              "  'dis',\n",
              "  'rad',\n",
              "  'tax',\n",
              "  'ptratio',\n",
              "  'black',\n",
              "  'lstat'],\n",
              " [np.float64(-0.08047756906134963),\n",
              "  np.float64(0.019062249581773306),\n",
              "  np.float64(-16.80137902436115),\n",
              "  np.float64(4.708495156999328),\n",
              "  np.float64(-0.0022664374091425675),\n",
              "  np.float64(-1.1330821470081804),\n",
              "  np.float64(0.26355596654107294),\n",
              "  np.float64(-0.010852063125598988),\n",
              "  np.float64(-1.1218409417206265),\n",
              "  np.float64(0.011669827534591427),\n",
              "  np.float64(-0.46137313934110497)])"
            ]
          },
          "metadata": {},
          "execution_count": 16
        }
      ],
      "source": [
        "# Helper code to create a dictionary of the coefficients\n",
        "# along with the predictors as keys\n",
        "lreg_coef = dict(zip(X.columns, np.transpose(lreg.coef_)))\n",
        "\n",
        "# Linear regression coefficients for plotting\n",
        "lreg_x = list(lreg_coef.keys())\n",
        "lreg_y = list(lreg_coef.values())\n",
        "\n",
        "lreg_x, lreg_y\n",
        "\n",
        "\n"
      ]
    },
    {
      "cell_type": "markdown",
      "metadata": {
        "id": "y-Lp_ZAI8gyu"
      },
      "source": [
        "### Implementing Lasso regularization"
      ]
    },
    {
      "cell_type": "code",
      "execution_count": 18,
      "metadata": {
        "collapsed": true,
        "id": "yY_uH5r88gyw"
      },
      "outputs": [],
      "source": [
        "# Create a Lasso Regression model with alpha as 0.008\n",
        "lasso_reg = Lasso(alpha=0.008)\n",
        "\n",
        "# Fit the model on the train data\n",
        "lasso_reg.fit(X_train, y_train)\n",
        "\n",
        "# Predict on the validation data using the trained model\n",
        "y_val_pred =lasso_reg.predict(X_val)\n"
      ]
    },
    {
      "cell_type": "markdown",
      "metadata": {
        "id": "n1Ye7M4H8gyy"
      },
      "source": [
        "### Computing the MSE with Lasso regularization"
      ]
    },
    {
      "cell_type": "code",
      "execution_count": 19,
      "metadata": {
        "collapsed": true,
        "id": "5HgTiiai8gy1",
        "outputId": "fc38f6da-2982-451a-a1e2-271a1636b13c",
        "colab": {
          "base_uri": "https://localhost:8080/"
        }
      },
      "outputs": [
        {
          "output_type": "stream",
          "name": "stdout",
          "text": [
            "Lasso validation MSE is 24.71344610618246\n"
          ]
        }
      ],
      "source": [
        "# Calculate the validation MSE\n",
        "mse_lasso = mean_squared_error(y_val_pred, y_val)\n",
        "\n",
        "# Print the validation MSE\n",
        "print (\"Lasso validation MSE is\", mse_lasso)\n"
      ]
    },
    {
      "cell_type": "code",
      "execution_count": 21,
      "metadata": {
        "collapsed": true,
        "id": "ZlwIK8vP8gy4",
        "outputId": "7adb4d62-82c2-44ce-b0e1-fec24f050d34",
        "colab": {
          "base_uri": "https://localhost:8080/"
        }
      },
      "outputs": [
        {
          "output_type": "execute_result",
          "data": {
            "text/plain": [
              "(['crim',\n",
              "  'indus',\n",
              "  'nox',\n",
              "  'rm',\n",
              "  'age',\n",
              "  'dis',\n",
              "  'rad',\n",
              "  'tax',\n",
              "  'ptratio',\n",
              "  'black',\n",
              "  'lstat'],\n",
              " [np.float64(-0.07849262729033969),\n",
              "  np.float64(0.006689729064948404),\n",
              "  np.float64(-14.221089710351778),\n",
              "  np.float64(4.7156980085023505),\n",
              "  np.float64(-0.004575973492669824),\n",
              "  np.float64(-1.091494038823684),\n",
              "  np.float64(0.25495833697659204),\n",
              "  np.float64(-0.010916537646304429),\n",
              "  np.float64(-1.087519568008948),\n",
              "  np.float64(0.011818336343867383),\n",
              "  np.float64(-0.4647706344046556)])"
            ]
          },
          "metadata": {},
          "execution_count": 21
        }
      ],
      "source": [
        "\n",
        "# Hhelper code to make a dictionary of the predictors\n",
        "# along with the coefficients associated with them\n",
        "lasso_coef = dict(zip(X.columns, np.transpose(lasso_reg.coef_)))\n",
        "\n",
        "# Get the Lasso regularisation coefficients for plotting\n",
        "lasso_x = list(lasso_coef.keys())\n",
        "lasso_y = list(lasso_coef.values())\n",
        "\n",
        "lasso_x, lasso_y\n"
      ]
    },
    {
      "cell_type": "markdown",
      "metadata": {
        "id": "GuQ3gamp8gy7"
      },
      "source": [
        "### Implementing Ridge regularization"
      ]
    },
    {
      "cell_type": "code",
      "execution_count": 22,
      "metadata": {
        "collapsed": true,
        "id": "BjYgzhJo8gy-"
      },
      "outputs": [],
      "source": [
        "# Create a Ridge Regression model with alpha as 0.008\n",
        "ridgeReg = Ridge(alpha=0.008)\n",
        "\n",
        "# Fit the model on the train data\n",
        "ridgeReg.fit(X_train, y_train)\n",
        "\n",
        "# Predict the trained model on the validation data\n",
        "y_val_pred = ridgeReg.predict(X_val)\n"
      ]
    },
    {
      "cell_type": "markdown",
      "metadata": {
        "id": "pNhZB5lz8gzB"
      },
      "source": [
        "### Computing the MSE with Ridge regularization"
      ]
    },
    {
      "cell_type": "code",
      "execution_count": 23,
      "metadata": {
        "collapsed": true,
        "id": "Qq_qXPPp8gzF",
        "outputId": "30c4d611-1815-4110-d48e-a39a9edd0309",
        "colab": {
          "base_uri": "https://localhost:8080/"
        }
      },
      "outputs": [
        {
          "output_type": "stream",
          "name": "stdout",
          "text": [
            "Ridge validation MSE is 24.665944649373216\n"
          ]
        }
      ],
      "source": [
        "\n",
        "### edTest(test_mse) ###\n",
        "\n",
        "# Calculate the validation MSE\n",
        "mse_ridge = mean_squared_error(y_val_pred, y_val)\n",
        "\n",
        "# Print he valdiation MSE\n",
        "print (\"Ridge validation MSE is\", mse_ridge)\n"
      ]
    },
    {
      "cell_type": "markdown",
      "metadata": {
        "id": "rg-KZ_LF8gzG"
      },
      "source": [
        "### Obtaining the coefficients of the predictors"
      ]
    },
    {
      "cell_type": "code",
      "execution_count": 24,
      "metadata": {
        "collapsed": true,
        "id": "r7xwUfo48gzM"
      },
      "outputs": [],
      "source": [
        "\n",
        "# Helper code to make a dictionary of the predictors\n",
        "# along with the coefficients associated with them\n",
        "ridge_coef = dict(zip(X.columns, np.transpose(ridgeReg.coef_)))\n",
        "\n",
        "# Ridge regularisation coefficients for plotting\n",
        "ridge_x = list(ridge_coef.keys())\n",
        "ridge_y = list(ridge_coef.values())\n"
      ]
    },
    {
      "cell_type": "markdown",
      "metadata": {
        "id": "TGYP1enR8gzN"
      },
      "source": [
        "### Plotting the graph"
      ]
    },
    {
      "cell_type": "code",
      "execution_count": 27,
      "metadata": {
        "collapsed": true,
        "id": "tISGsCl18gzO",
        "outputId": "28391931-189f-4245-aeae-1e2dce872554",
        "colab": {
          "base_uri": "https://localhost:8080/",
          "height": 449
        }
      },
      "outputs": [
        {
          "output_type": "display_data",
          "data": {
            "text/plain": [
              "<Figure size 640x480 with 1 Axes>"
            ],
            "image/png": "[encoded data removed]"
          },
          "metadata": {}
        }
      ],
      "source": [
        "# Helper code below to visualise your results\n",
        "\n",
        "plt.rcdefaults()\n",
        "\n",
        "plt.barh(lreg_x,lreg_y,1.0, align='edge',color=\"#D3B4B4\", label=\"Linear Regression\")\n",
        "plt.barh(lasso_x,lasso_y,0.75 ,align='edge',color=\"#81BDB2\",label = \"Lasso regularisation\")\n",
        "plt.barh(ridge_x,ridge_y,0.25 ,align='edge',color=\"#7E7EC0\", label=\"Ridge regularisation\")\n",
        "plt.grid(linewidth=0.2)\n",
        "plt.xlabel(\"Coefficient\")\n",
        "plt.ylabel(\"Predictors\")\n",
        "plt.legend(loc='best')\n",
        "# plt.xlim(-6500,3500)\n",
        "plt.show()\n"
      ]
    },
    {
      "cell_type": "markdown",
      "metadata": {
        "id": "V7G2BLR98gzP"
      },
      "source": [
        "#### ⏸ How does the performance of Lasso and Ridge regression compare with that of Linear regression?"
      ]
    },
    {
      "cell_type": "code",
      "execution_count": null,
      "metadata": {
        "id": "-671z_3d8gzS"
      },
      "outputs": [],
      "source": [
        "### edTest(test_chow1) ###\n",
        "# Submit an answer choice as a string below\n",
        "answer1 = 'The lasso and ridge regression limit the affection of beta parameter,or I would say it normalize the result of the model, it control the model performance'\n"
      ]
    },
    {
      "cell_type": "markdown",
      "metadata": {
        "id": "cN6VXE1j8gzU"
      },
      "source": [
        "#### ⏸ Change the alpha values for both, Lasso and Ridge, to 1000. What happens to the coefficients?\n"
      ]
    },
    {
      "cell_type": "code",
      "execution_count": null,
      "metadata": {
        "id": "TQhTfAoI8gzV"
      },
      "outputs": [],
      "source": [
        "### edTest(test_chow2) ###\n",
        "# Submit an answer choice as a string below\n",
        "answer2 = '___'\n"
      ]
    }
  ],
  "metadata": {
    "kernelspec": {
      "display_name": "Python 3",
      "language": "python",
      "name": "python3"
    },
    "language_info": {
      "codemirror_mode": {
        "name": "ipython",
        "version": 3
      },
      "file_extension": ".py",
      "mimetype": "text/x-python",
      "name": "python",
      "nbconvert_exporter": "python",
      "pygments_lexer": "ipython3",
      "version": "3.8.5"
    },
    "colab": {
      "provenance": [],
      "toc_visible": true,
      "include_colab_link": true
    }
  },
  "nbformat": 4,
  "nbformat_minor": 0
}